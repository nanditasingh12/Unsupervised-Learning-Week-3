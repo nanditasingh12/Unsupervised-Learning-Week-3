{
 "cells": [
  {
   "cell_type": "markdown",
   "metadata": {},
   "source": [
    "# Deep Q-Learning - Lunar Lander\n",
    "\n",
    "In this assignment, you will train an agent to land a lunar lander safely on a landing pad on the surface of the moon.\n",
    "\n",
    "\n",
    "# Outline\n",
    "- [ 1 - Import Packages <img align=\"Right\" src=\"./images/lunar_lander.gif\" width = 60% >](#1)\n",
    "- [ 2 - Hyperparameters](#2)\n",
    "- [ 3 - The Lunar Lander Environment](#3)\n",
    "  - [ 3.1 Action Space](#3.1)\n",
    "  - [ 3.2 Observation Space](#3.2)\n",
    "  - [ 3.3 Rewards](#3.3)\n",
    "  - [ 3.4 Episode Termination](#3.4)\n",
    "- [ 4 - Load the Environment](#4)\n",
    "- [ 5 - Interacting with the Gym Environment](#5)\n",
    "    - [ 5.1 Exploring the Environment's Dynamics](#5.1)\n",
    "- [ 6 - Deep Q-Learning](#6)\n",
    "  - [ 6.1 Target Network](#6.1)\n",
    "    - [ Exercise 1](#ex01)\n",
    "  - [ 6.2 Experience Replay](#6.2)\n",
    "- [ 7 - Deep Q-Learning Algorithm with Experience Replay](#7)\n",
    "  - [ Exercise 2](#ex02)\n",
    "- [ 8 - Update the Network Weights](#8)\n",
    "- [ 9 - Train the Agent](#9)\n",
    "- [ 10 - See the Trained Agent In Action](#10)\n",
    "- [ 11 - Congratulations!](#11)\n",
    "- [ 12 - References](#12)\n"
   ]
  },
  {
   "cell_type": "markdown",
   "metadata": {},
   "source": [
    "_**NOTE:** To prevent errors from the autograder, you are not allowed to edit or delete non-graded cells in this lab. Please also refrain from adding any new cells. \n",
    "**Once you have passed this assignment** and want to experiment with any of the non-graded code, you may follow the instructions at the bottom of this notebook._"
   ]
  },
  {
   "cell_type": "markdown",
   "metadata": {},
   "source": [
    "<a name=\"1\"></a>\n",
    "## 1 - Import Packages\n",
    "\n",
    "We'll make use of the following packages:\n",
    "- `numpy` is a package for scientific computing in python.\n",
    "- `deque` will be our data structure for our memory buffer.\n",
    "- `namedtuple` will be used to store the experience tuples.\n",
    "- The `gym` toolkit is a collection of environments that can be used to test reinforcement learning algorithms. We should note that in this notebook we are using `gym` version `0.24.0`.\n",
    "- `PIL.Image` and `pyvirtualdisplay` are needed to render the Lunar Lander environment.\n",
    "- We will use several modules from the `tensorflow.keras` framework for building deep learning models.\n",
    "- `utils` is a module that contains helper functions for this assignment. You do not need to modify the code in this file.\n",
    "\n",
    "Run the cell below to import all the necessary packages."
   ]
  },
  {
   "cell_type": "code",
   "execution_count": 1,
   "metadata": {
    "deletable": false,
    "editable": false,
    "id": "KYbOPKRtfQOr"
   },
   "outputs": [],
   "source": [
    "import time\n",
    "from collections import deque, namedtuple\n",
    "\n",
    "import gym\n",
    "import numpy as np\n",
    "import PIL.Image\n",
    "import tensorflow as tf\n",
    "import utils\n",
    "\n",
    "from pyvirtualdisplay import Display\n",
    "from tensorflow.keras import Sequential\n",
    "from tensorflow.keras.layers import Dense, Input\n",
    "from tensorflow.keras.losses import MSE\n",
    "from tensorflow.keras.optimizers import Adam"
   ]
  },
  {
   "cell_type": "code",
   "execution_count": 2,
   "metadata": {
    "deletable": false,
    "editable": false
   },
   "outputs": [],
   "source": [
    "# Set up a virtual display to render the Lunar Lander environment.\n",
    "Display(visible=0, size=(840, 480)).start();\n",
    "\n",
    "# Set the random seed for TensorFlow\n",
    "tf.random.set_seed(utils.SEED)"
   ]
  },
  {
   "cell_type": "markdown",
   "metadata": {},
   "source": [
    "<a name=\"2\"></a>\n",
    "## 2 - Hyperparameters\n",
    "\n",
    "Run the cell below to set the hyperparameters."
   ]
  },
  {
   "cell_type": "code",
   "execution_count": 3,
   "metadata": {
    "deletable": false,
    "editable": false
   },
   "outputs": [],
   "source": [
    "MEMORY_SIZE = 100_000     # size of memory buffer\n",
    "GAMMA = 0.995             # discount factor\n",
    "ALPHA = 1e-3              # learning rate  \n",
    "NUM_STEPS_FOR_UPDATE = 4  # perform a learning update every C time steps"
   ]
  },
  {
   "cell_type": "markdown",
   "metadata": {},
   "source": [
    "<a name=\"3\"></a>\n",
    "## 3 - The Lunar Lander Environment\n",
    "\n",
    "In this notebook we will be using [OpenAI's Gym Library](https://www.gymlibrary.dev/). The Gym library provides a wide variety of environments for reinforcement learning. To put it simply, an environment represents a problem or task to be solved. In this notebook, we will try to solve the Lunar Lander environment using reinforcement learning.\n",
    "\n",
    "The goal of the Lunar Lander environment is to land the lunar lander safely on the landing pad on the surface of the moon. The landing pad is designated by two flag poles and its center is at coordinates `(0,0)` but the lander is also allowed to land outside of the landing pad. The lander starts at the top center of the environment with a random initial force applied to its center of mass and has infinite fuel. The environment is considered solved if you get `200` points. \n",
    "\n",
    "<br>\n",
    "<br>\n",
    "<figure>\n",
    "  <img src = \"images/lunar_lander.gif\" width = 40%>\n",
    "      <figcaption style = \"text-align: center; font-style: italic\">Fig 1. Lunar Lander Environment.</figcaption>\n",
    "</figure>\n",
    "\n",
    "\n",
    "\n",
    "<a name=\"3.1\"></a>\n",
    "### 3.1 Action Space\n",
    "\n",
    "The agent has four discrete actions available:\n",
    "\n",
    "* Do nothing.\n",
    "* Fire right engine.\n",
    "* Fire main engine.\n",
    "* Fire left engine.\n",
    "\n",
    "Each action has a corresponding numerical value:\n",
    "\n",
    "```python\n",
    "Do nothing = 0\n",
    "Fire right engine = 1\n",
    "Fire main engine = 2\n",
    "Fire left engine = 3\n",
    "```\n",
    "\n",
    "<a name=\"3.2\"></a>\n",
    "### 3.2 Observation Space\n",
    "\n",
    "The agent's observation space consists of a state vector with 8 variables:\n",
    "\n",
    "* Its $(x,y)$ coordinates. The landing pad is always at coordinates $(0,0)$.\n",
    "* Its linear velocities $(\\dot x,\\dot y)$.\n",
    "* Its angle $\\theta$.\n",
    "* Its angular velocity $\\dot \\theta$.\n",
    "* Two booleans, $l$ and $r$, that represent whether each leg is in contact with the ground or not.\n",
    "\n",
    "<a name=\"3.3\"></a>\n",
    "### 3.3 Rewards\n",
    "\n",
    "After every step, a reward is granted. The total reward of an episode is the sum of the rewards for all the steps within that episode.\n",
    "\n",
    "For each step, the reward:\n",
    "- is increased/decreased the closer/further the lander is to the landing pad.\n",
    "- is increased/decreased the slower/faster the lander is moving.\n",
    "- is decreased the more the lander is tilted (angle not horizontal).\n",
    "- is increased by 10 points for each leg that is in contact with the ground.\n",
    "- is decreased by 0.03 points each frame a side engine is firing.\n",
    "- is decreased by 0.3 points each frame the main engine is firing.\n",
    "\n",
    "The episode receives an additional reward of -100 or +100 points for crashing or landing safely respectively.\n",
    "\n",
    "<a name=\"3.4\"></a>\n",
    "### 3.4 Episode Termination\n",
    "\n",
    "An episode ends (i.e the environment enters a terminal state) if:\n",
    "\n",
    "* The lunar lander crashes (i.e if the body of the lunar lander comes in contact with the surface of the moon).\n",
    "\n",
    "* The absolute value of the lander's $x$-coordinate is greater than 1 (i.e. it goes beyond the left or right border)\n",
    "\n",
    "You can check out the [Open AI Gym documentation](https://www.gymlibrary.dev/environments/box2d/lunar_lander/) for a full description of the environment. "
   ]
  },
  {
   "cell_type": "markdown",
   "metadata": {},
   "source": [
    "<a name=\"4\"></a>\n",
    "## 4 - Load the Environment\n",
    "\n",
    "We start by loading the `LunarLander-v2` environment from the `gym` library by using the `.make()` method. `LunarLander-v2` is the latest version of the Lunar Lander environment and you can read about its version history in the [Open AI Gym documentation](https://www.gymlibrary.dev/environments/box2d/lunar_lander/#version-history)."
   ]
  },
  {
   "cell_type": "code",
   "execution_count": 4,
   "metadata": {
    "deletable": false,
    "editable": false,
    "id": "ILVMYKewfR0n"
   },
   "outputs": [],
   "source": [
    "env = gym.make('LunarLander-v2')"
   ]
  },
  {
   "cell_type": "markdown",
   "metadata": {},
   "source": [
    "Once we load the environment we use the `.reset()` method to reset the environment to the initial state. The lander starts at the top center of the environment and we can render the first frame of the environment by using the `.render()` method."
   ]
  },
  {
   "cell_type": "code",
   "execution_count": 5,
   "metadata": {
    "deletable": false,
    "editable": false
   },
   "outputs": [
    {
     "data": {
      "image/png": "[encoded data removed]",
      "text/plain": [
       "<PIL.Image.Image image mode=RGB size=600x400 at 0x7F865224CC90>"
      ]
     },
     "execution_count": 5,
     "metadata": {},
     "output_type": "execute_result"
    }
   ],
   "source": [
    "env.reset()\n",
    "PIL.Image.fromarray(env.render(mode='rgb_array'))"
   ]
  },
  {
   "cell_type": "markdown",
   "metadata": {},
   "source": [
    "In order to build our neural network later on we need to know the size of the state vector and the number of valid actions. We can get this information from our environment by using the `.observation_space.shape` and `action_space.n` methods, respectively."
   ]
  },
  {
   "cell_type": "code",
   "execution_count": 6,
   "metadata": {
    "deletable": false,
    "editable": false,
    "id": "x3fdqdG4CUu2"
   },
   "outputs": [
    {
     "name": "stdout",
     "output_type": "stream",
     "text": [
      "State Shape: (8,)\n",
      "Number of actions: 4\n"
     ]
    }
   ],
   "source": [
    "state_size = env.observation_space.shape\n",
    "num_actions = env.action_space.n\n",
    "\n",
    "print('State Shape:', state_size)\n",
    "print('Number of actions:', num_actions)"
   ]
  },
  {
   "cell_type": "markdown",
   "metadata": {},
   "source": [
    "<a name=\"5\"></a>\n",
    "## 5 - Interacting with the Gym Environment\n",
    "\n",
    "The Gym library implements the standard “agent-environment loop” formalism:\n",
    "\n",
    "<br>\n",
    "<center>\n",
    "<video src = \"./videos/rl_formalism.m4v\" width=\"840\" height=\"480\" controls autoplay loop poster=\"./images/rl_formalism.png\"> </video>\n",
    "<figcaption style = \"text-align:center; font-style:italic\">Fig 2. Agent-environment Loop Formalism.</figcaption>\n",
    "</center>\n",
    "<br>\n",
    "\n",
    "In the standard “agent-environment loop” formalism, an agent interacts with the environment in discrete time steps $t=0,1,2,...$. At each time step $t$, the agent uses a policy $\\pi$ to select an action $A_t$ based on its observation of the environment's state $S_t$. The agent receives a numerical reward $R_t$ and on the next time step, moves to a new state $S_{t+1}$.\n",
    "\n",
    "<a name=\"5.1\"></a>\n",
    "### 5.1 Exploring the Environment's Dynamics\n",
    "\n",
    "In Open AI's Gym environments, we use the `.step()` method to run a single time step of the environment's dynamics. In the version of `gym` that we are using the `.step()` method accepts an action and returns four values:\n",
    "\n",
    "* `observation` (**object**): an environment-specific object representing your observation of the environment. In the Lunar Lander environment this corresponds to a numpy array containing the positions and velocities of the lander as described in section [3.2 Observation Space](#3.2).\n",
    "\n",
    "\n",
    "* `reward` (**float**): amount of reward returned as a result of taking the given action. In the Lunar Lander environment this corresponds to a float of type `numpy.float64` as described in section [3.3 Rewards](#3.3).\n",
    "\n",
    "\n",
    "* `done` (**boolean**): When done is `True`, it indicates the episode has terminated and it’s time to reset the environment. \n",
    "\n",
    "\n",
    "* `info` (**dictionary**): diagnostic information useful for debugging. We won't be using this variable in this notebook but it is shown here for completeness.\n",
    "\n",
    "To begin an episode, we need to reset the environment to an initial state. We do this by using the `.reset()` method. "
   ]
  },
  {
   "cell_type": "code",
   "execution_count": 7,
   "metadata": {
    "deletable": false,
    "editable": false
   },
   "outputs": [],
   "source": [
    "# Reset the environment and get the initial state.\n",
    "current_state = env.reset()"
   ]
  },
  {
   "cell_type": "markdown",
   "metadata": {},
   "source": [
    "Once the environment is reset, the agent can start taking actions in the environment by using the `.step()` method. Note that the agent can only take one action per time step. \n",
    "\n",
    "In the cell below you can select different actions and see how the returned values change depending on the action taken. Remember that in this environment the agent has four discrete actions available and we specify them in code by using their corresponding numerical value:\n",
    "\n",
    "```python\n",
    "Do nothing = 0\n",
    "Fire right engine = 1\n",
    "Fire main engine = 2\n",
    "Fire left engine = 3\n",
    "```"
   ]
  },
  {
   "cell_type": "code",
   "execution_count": 8,
   "metadata": {
    "deletable": false
   },
   "outputs": [
    {
     "data": {
      "text/html": [
       "<style  type=\"text/css\" >\n",
       "    #T_3aeb8568_7667_11ee_9d4e_0242ac120093 th {\n",
       "          border: 1px solid grey;\n",
       "          text-align: center;\n",
       "    }    #T_3aeb8568_7667_11ee_9d4e_0242ac120093 tbody td {\n",
       "          border: 1px solid grey;\n",
       "          text-align: center;\n",
       "    }    #T_3aeb8568_7667_11ee_9d4e_0242ac120093row0_col0 {\n",
       "            background-color :  grey;\n",
       "        }    #T_3aeb8568_7667_11ee_9d4e_0242ac120093row1_col1 {\n",
       "            background-color :  grey;\n",
       "        }    #T_3aeb8568_7667_11ee_9d4e_0242ac120093row1_col2 {\n",
       "            background-color :  grey;\n",
       "        }    #T_3aeb8568_7667_11ee_9d4e_0242ac120093row1_col3 {\n",
       "            background-color :  grey;\n",
       "        }    #T_3aeb8568_7667_11ee_9d4e_0242ac120093row1_col4 {\n",
       "            background-color :  grey;\n",
       "        }    #T_3aeb8568_7667_11ee_9d4e_0242ac120093row1_col5 {\n",
       "            background-color :  grey;\n",
       "        }    #T_3aeb8568_7667_11ee_9d4e_0242ac120093row1_col6 {\n",
       "            background-color :  grey;\n",
       "        }    #T_3aeb8568_7667_11ee_9d4e_0242ac120093row1_col7 {\n",
       "            background-color :  grey;\n",
       "        }    #T_3aeb8568_7667_11ee_9d4e_0242ac120093row1_col8 {\n",
       "            background-color :  grey;\n",
       "        }    #T_3aeb8568_7667_11ee_9d4e_0242ac120093row1_col9 {\n",
       "            background-color :  grey;\n",
       "        }    #T_3aeb8568_7667_11ee_9d4e_0242ac120093row1_col10 {\n",
       "            background-color :  grey;\n",
       "        }    #T_3aeb8568_7667_11ee_9d4e_0242ac120093row1_col11 {\n",
       "            background-color :  grey;\n",
       "        }    #T_3aeb8568_7667_11ee_9d4e_0242ac120093row2_col0 {\n",
       "            background-color :  grey;\n",
       "        }    #T_3aeb8568_7667_11ee_9d4e_0242ac120093row3_col1 {\n",
       "            background-color :  grey;\n",
       "        }    #T_3aeb8568_7667_11ee_9d4e_0242ac120093row3_col2 {\n",
       "            background-color :  grey;\n",
       "        }    #T_3aeb8568_7667_11ee_9d4e_0242ac120093row3_col3 {\n",
       "            background-color :  grey;\n",
       "        }    #T_3aeb8568_7667_11ee_9d4e_0242ac120093row3_col4 {\n",
       "            background-color :  grey;\n",
       "        }    #T_3aeb8568_7667_11ee_9d4e_0242ac120093row3_col5 {\n",
       "            background-color :  grey;\n",
       "        }    #T_3aeb8568_7667_11ee_9d4e_0242ac120093row3_col6 {\n",
       "            background-color :  grey;\n",
       "        }    #T_3aeb8568_7667_11ee_9d4e_0242ac120093row3_col7 {\n",
       "            background-color :  grey;\n",
       "        }    #T_3aeb8568_7667_11ee_9d4e_0242ac120093row3_col8 {\n",
       "            background-color :  grey;\n",
       "        }    #T_3aeb8568_7667_11ee_9d4e_0242ac120093row3_col9 {\n",
       "            background-color :  grey;\n",
       "        }    #T_3aeb8568_7667_11ee_9d4e_0242ac120093row3_col10 {\n",
       "            background-color :  grey;\n",
       "        }    #T_3aeb8568_7667_11ee_9d4e_0242ac120093row3_col11 {\n",
       "            background-color :  grey;\n",
       "        }    #T_3aeb8568_7667_11ee_9d4e_0242ac120093row4_col1 {\n",
       "            background-color :  grey;\n",
       "        }    #T_3aeb8568_7667_11ee_9d4e_0242ac120093row4_col2 {\n",
       "            background-color :  grey;\n",
       "        }    #T_3aeb8568_7667_11ee_9d4e_0242ac120093row4_col3 {\n",
       "            background-color :  grey;\n",
       "        }    #T_3aeb8568_7667_11ee_9d4e_0242ac120093row4_col4 {\n",
       "            background-color :  grey;\n",
       "        }    #T_3aeb8568_7667_11ee_9d4e_0242ac120093row4_col5 {\n",
       "            background-color :  grey;\n",
       "        }    #T_3aeb8568_7667_11ee_9d4e_0242ac120093row4_col6 {\n",
       "            background-color :  grey;\n",
       "        }    #T_3aeb8568_7667_11ee_9d4e_0242ac120093row4_col7 {\n",
       "            background-color :  grey;\n",
       "        }    #T_3aeb8568_7667_11ee_9d4e_0242ac120093row4_col8 {\n",
       "            background-color :  grey;\n",
       "        }    #T_3aeb8568_7667_11ee_9d4e_0242ac120093row4_col9 {\n",
       "            background-color :  grey;\n",
       "        }    #T_3aeb8568_7667_11ee_9d4e_0242ac120093row4_col10 {\n",
       "            background-color :  grey;\n",
       "        }    #T_3aeb8568_7667_11ee_9d4e_0242ac120093row4_col11 {\n",
       "            background-color :  grey;\n",
       "        }</style><table id=\"T_3aeb8568_7667_11ee_9d4e_0242ac120093\" ><thead>    <tr>        <th class=\"blank level0\" ></th>        <th class=\"col_heading level0 col0\" ></th>        <th class=\"col_heading level0 col1\" colspan=8>State Vector</th>        <th class=\"col_heading level0 col9\" colspan=3>Derived from the State Vector (the closer to zero, the better)</th>    </tr>    <tr>        <th class=\"blank level1\" ></th>        <th class=\"col_heading level1 col0\" ></th>        <th class=\"col_heading level1 col1\" colspan=2>Coordinate</th>        <th class=\"col_heading level1 col3\" colspan=2>Velocity</th>        <th class=\"col_heading level1 col5\" colspan=2>Tilting</th>        <th class=\"col_heading level1 col7\" colspan=2>Ground contact</th>        <th class=\"col_heading level1 col9\" >Distance from landing pad</th>        <th class=\"col_heading level1 col10\" >Velocity</th>        <th class=\"col_heading level1 col11\" >Tilting Angle (absolute value)</th>    </tr>    <tr>        <th class=\"blank level2\" ></th>        <th class=\"col_heading level2 col0\" ></th>        <th class=\"col_heading level2 col1\" >X (Horizontal)</th>        <th class=\"col_heading level2 col2\" >Y (Vertical)</th>        <th class=\"col_heading level2 col3\" >X (Horizontal)</th>        <th class=\"col_heading level2 col4\" >Y (Vertical)</th>        <th class=\"col_heading level2 col5\" >Angle</th>        <th class=\"col_heading level2 col6\" >Angular Velocity</th>        <th class=\"col_heading level2 col7\" >Left Leg?</th>        <th class=\"col_heading level2 col8\" >Right Leg?</th>        <th class=\"col_heading level2 col9\" ></th>        <th class=\"col_heading level2 col10\" ></th>        <th class=\"col_heading level2 col11\" ></th>    </tr></thead><tbody>\n",
       "                <tr>\n",
       "                        <th id=\"T_3aeb8568_7667_11ee_9d4e_0242ac120093level0_row0\" class=\"row_heading level0 row0\" >Current State</th>\n",
       "                        <td id=\"T_3aeb8568_7667_11ee_9d4e_0242ac120093row0_col0\" class=\"data row0 col0\" ></td>\n",
       "                        <td id=\"T_3aeb8568_7667_11ee_9d4e_0242ac120093row0_col1\" class=\"data row0 col1\" >0.001919</td>\n",
       "                        <td id=\"T_3aeb8568_7667_11ee_9d4e_0242ac120093row0_col2\" class=\"data row0 col2\" >1.422301</td>\n",
       "                        <td id=\"T_3aeb8568_7667_11ee_9d4e_0242ac120093row0_col3\" class=\"data row0 col3\" >0.194400</td>\n",
       "                        <td id=\"T_3aeb8568_7667_11ee_9d4e_0242ac120093row0_col4\" class=\"data row0 col4\" >0.505814</td>\n",
       "                        <td id=\"T_3aeb8568_7667_11ee_9d4e_0242ac120093row0_col5\" class=\"data row0 col5\" >-0.002217</td>\n",
       "                        <td id=\"T_3aeb8568_7667_11ee_9d4e_0242ac120093row0_col6\" class=\"data row0 col6\" >-0.044034</td>\n",
       "                        <td id=\"T_3aeb8568_7667_11ee_9d4e_0242ac120093row0_col7\" class=\"data row0 col7\" >False</td>\n",
       "                        <td id=\"T_3aeb8568_7667_11ee_9d4e_0242ac120093row0_col8\" class=\"data row0 col8\" >False</td>\n",
       "                        <td id=\"T_3aeb8568_7667_11ee_9d4e_0242ac120093row0_col9\" class=\"data row0 col9\" >1.422302</td>\n",
       "                        <td id=\"T_3aeb8568_7667_11ee_9d4e_0242ac120093row0_col10\" class=\"data row0 col10\" >0.541885</td>\n",
       "                        <td id=\"T_3aeb8568_7667_11ee_9d4e_0242ac120093row0_col11\" class=\"data row0 col11\" >0.002217</td>\n",
       "            </tr>\n",
       "            <tr>\n",
       "                        <th id=\"T_3aeb8568_7667_11ee_9d4e_0242ac120093level0_row1\" class=\"row_heading level0 row1\" >Action</th>\n",
       "                        <td id=\"T_3aeb8568_7667_11ee_9d4e_0242ac120093row1_col0\" class=\"data row1 col0\" >Do nothing</td>\n",
       "                        <td id=\"T_3aeb8568_7667_11ee_9d4e_0242ac120093row1_col1\" class=\"data row1 col1\" ></td>\n",
       "                        <td id=\"T_3aeb8568_7667_11ee_9d4e_0242ac120093row1_col2\" class=\"data row1 col2\" ></td>\n",
       "                        <td id=\"T_3aeb8568_7667_11ee_9d4e_0242ac120093row1_col3\" class=\"data row1 col3\" ></td>\n",
       "                        <td id=\"T_3aeb8568_7667_11ee_9d4e_0242ac120093row1_col4\" class=\"data row1 col4\" ></td>\n",
       "                        <td id=\"T_3aeb8568_7667_11ee_9d4e_0242ac120093row1_col5\" class=\"data row1 col5\" ></td>\n",
       "                        <td id=\"T_3aeb8568_7667_11ee_9d4e_0242ac120093row1_col6\" class=\"data row1 col6\" ></td>\n",
       "                        <td id=\"T_3aeb8568_7667_11ee_9d4e_0242ac120093row1_col7\" class=\"data row1 col7\" ></td>\n",
       "                        <td id=\"T_3aeb8568_7667_11ee_9d4e_0242ac120093row1_col8\" class=\"data row1 col8\" ></td>\n",
       "                        <td id=\"T_3aeb8568_7667_11ee_9d4e_0242ac120093row1_col9\" class=\"data row1 col9\" ></td>\n",
       "                        <td id=\"T_3aeb8568_7667_11ee_9d4e_0242ac120093row1_col10\" class=\"data row1 col10\" ></td>\n",
       "                        <td id=\"T_3aeb8568_7667_11ee_9d4e_0242ac120093row1_col11\" class=\"data row1 col11\" ></td>\n",
       "            </tr>\n",
       "            <tr>\n",
       "                        <th id=\"T_3aeb8568_7667_11ee_9d4e_0242ac120093level0_row2\" class=\"row_heading level0 row2\" >Next State</th>\n",
       "                        <td id=\"T_3aeb8568_7667_11ee_9d4e_0242ac120093row2_col0\" class=\"data row2 col0\" ></td>\n",
       "                        <td id=\"T_3aeb8568_7667_11ee_9d4e_0242ac120093row2_col1\" class=\"data row2 col1\" >0.003839</td>\n",
       "                        <td id=\"T_3aeb8568_7667_11ee_9d4e_0242ac120093row2_col2\" class=\"data row2 col2\" >1.433103</td>\n",
       "                        <td id=\"T_3aeb8568_7667_11ee_9d4e_0242ac120093row2_col3\" class=\"data row2 col3\" >0.194137</td>\n",
       "                        <td id=\"T_3aeb8568_7667_11ee_9d4e_0242ac120093row2_col4\" class=\"data row2 col4\" >0.480094</td>\n",
       "                        <td id=\"T_3aeb8568_7667_11ee_9d4e_0242ac120093row2_col5\" class=\"data row2 col5\" >-0.004393</td>\n",
       "                        <td id=\"T_3aeb8568_7667_11ee_9d4e_0242ac120093row2_col6\" class=\"data row2 col6\" >-0.043519</td>\n",
       "                        <td id=\"T_3aeb8568_7667_11ee_9d4e_0242ac120093row2_col7\" class=\"data row2 col7\" >False</td>\n",
       "                        <td id=\"T_3aeb8568_7667_11ee_9d4e_0242ac120093row2_col8\" class=\"data row2 col8\" >False</td>\n",
       "                        <td id=\"T_3aeb8568_7667_11ee_9d4e_0242ac120093row2_col9\" class=\"data row2 col9\" >1.433108</td>\n",
       "                        <td id=\"T_3aeb8568_7667_11ee_9d4e_0242ac120093row2_col10\" class=\"data row2 col10\" >0.517860</td>\n",
       "                        <td id=\"T_3aeb8568_7667_11ee_9d4e_0242ac120093row2_col11\" class=\"data row2 col11\" >0.004393</td>\n",
       "            </tr>\n",
       "            <tr>\n",
       "                        <th id=\"T_3aeb8568_7667_11ee_9d4e_0242ac120093level0_row3\" class=\"row_heading level0 row3\" >Reward</th>\n",
       "                        <td id=\"T_3aeb8568_7667_11ee_9d4e_0242ac120093row3_col0\" class=\"data row3 col0\" >1.104326</td>\n",
       "                        <td id=\"T_3aeb8568_7667_11ee_9d4e_0242ac120093row3_col1\" class=\"data row3 col1\" ></td>\n",
       "                        <td id=\"T_3aeb8568_7667_11ee_9d4e_0242ac120093row3_col2\" class=\"data row3 col2\" ></td>\n",
       "                        <td id=\"T_3aeb8568_7667_11ee_9d4e_0242ac120093row3_col3\" class=\"data row3 col3\" ></td>\n",
       "                        <td id=\"T_3aeb8568_7667_11ee_9d4e_0242ac120093row3_col4\" class=\"data row3 col4\" ></td>\n",
       "                        <td id=\"T_3aeb8568_7667_11ee_9d4e_0242ac120093row3_col5\" class=\"data row3 col5\" ></td>\n",
       "                        <td id=\"T_3aeb8568_7667_11ee_9d4e_0242ac120093row3_col6\" class=\"data row3 col6\" ></td>\n",
       "                        <td id=\"T_3aeb8568_7667_11ee_9d4e_0242ac120093row3_col7\" class=\"data row3 col7\" ></td>\n",
       "                        <td id=\"T_3aeb8568_7667_11ee_9d4e_0242ac120093row3_col8\" class=\"data row3 col8\" ></td>\n",
       "                        <td id=\"T_3aeb8568_7667_11ee_9d4e_0242ac120093row3_col9\" class=\"data row3 col9\" ></td>\n",
       "                        <td id=\"T_3aeb8568_7667_11ee_9d4e_0242ac120093row3_col10\" class=\"data row3 col10\" ></td>\n",
       "                        <td id=\"T_3aeb8568_7667_11ee_9d4e_0242ac120093row3_col11\" class=\"data row3 col11\" ></td>\n",
       "            </tr>\n",
       "            <tr>\n",
       "                        <th id=\"T_3aeb8568_7667_11ee_9d4e_0242ac120093level0_row4\" class=\"row_heading level0 row4\" >Episode Terminated</th>\n",
       "                        <td id=\"T_3aeb8568_7667_11ee_9d4e_0242ac120093row4_col0\" class=\"data row4 col0\" >False</td>\n",
       "                        <td id=\"T_3aeb8568_7667_11ee_9d4e_0242ac120093row4_col1\" class=\"data row4 col1\" ></td>\n",
       "                        <td id=\"T_3aeb8568_7667_11ee_9d4e_0242ac120093row4_col2\" class=\"data row4 col2\" ></td>\n",
       "                        <td id=\"T_3aeb8568_7667_11ee_9d4e_0242ac120093row4_col3\" class=\"data row4 col3\" ></td>\n",
       "                        <td id=\"T_3aeb8568_7667_11ee_9d4e_0242ac120093row4_col4\" class=\"data row4 col4\" ></td>\n",
       "                        <td id=\"T_3aeb8568_7667_11ee_9d4e_0242ac120093row4_col5\" class=\"data row4 col5\" ></td>\n",
       "                        <td id=\"T_3aeb8568_7667_11ee_9d4e_0242ac120093row4_col6\" class=\"data row4 col6\" ></td>\n",
       "                        <td id=\"T_3aeb8568_7667_11ee_9d4e_0242ac120093row4_col7\" class=\"data row4 col7\" ></td>\n",
       "                        <td id=\"T_3aeb8568_7667_11ee_9d4e_0242ac120093row4_col8\" class=\"data row4 col8\" ></td>\n",
       "                        <td id=\"T_3aeb8568_7667_11ee_9d4e_0242ac120093row4_col9\" class=\"data row4 col9\" ></td>\n",
       "                        <td id=\"T_3aeb8568_7667_11ee_9d4e_0242ac120093row4_col10\" class=\"data row4 col10\" ></td>\n",
       "                        <td id=\"T_3aeb8568_7667_11ee_9d4e_0242ac120093row4_col11\" class=\"data row4 col11\" ></td>\n",
       "            </tr>\n",
       "    </tbody></table>"
      ],
      "text/plain": [
       "<pandas.io.formats.style.Styler at 0x7f85b2104490>"
      ]
     },
     "metadata": {},
     "output_type": "display_data"
    }
   ],
   "source": [
    "# Select an action\n",
    "action = 0\n",
    "\n",
    "# Run a single time step of the environment's dynamics with the given action.\n",
    "next_state, reward, done, _ = env.step(action)\n",
    "\n",
    "# Display table with values.\n",
    "utils.display_table(current_state, action, next_state, reward, done)\n",
    "\n",
    "# Replace the `current_state` with the state after the action is taken\n",
    "current_state = next_state"
   ]
  },
  {
   "cell_type": "markdown",
   "metadata": {},
   "source": [
    "In practice, when we train the agent we use a loop to allow the agent to take many consecutive actions during an episode."
   ]
  },
  {
   "cell_type": "markdown",
   "metadata": {},
   "source": [
    "<a name=\"6\"></a>\n",
    "## 6 - Deep Q-Learning\n",
    "\n",
    "In cases where both the state and action space are discrete we can estimate the action-value function iteratively by using the Bellman equation:\n",
    "\n",
    "$$\n",
    "Q_{i+1}(s,a) = R + \\gamma \\max_{a'}Q_i(s',a')\n",
    "$$\n",
    "\n",
    "This iterative method converges to the optimal action-value function $Q^*(s,a)$ as $i\\to\\infty$. This means that the agent just needs to gradually explore the state-action space and keep updating the estimate of $Q(s,a)$ until it converges to the optimal action-value function $Q^*(s,a)$. However, in cases where the state space is continuous it becomes practically impossible to explore the entire state-action space. Consequently, this also makes it practically impossible to gradually estimate $Q(s,a)$ until it converges to $Q^*(s,a)$.\n",
    "\n",
    "In the Deep $Q$-Learning, we solve this problem by using a neural network to estimate the action-value function $Q(s,a)\\approx Q^*(s,a)$. We call this neural network a $Q$-Network and it can be trained by adjusting its weights at each iteration to minimize the mean-squared error in the Bellman equation.\n",
    "\n",
    "Unfortunately, using neural networks in reinforcement learning to estimate action-value functions has proven to be highly unstable. Luckily, there's a couple of techniques that can be employed to avoid instabilities. These techniques consist of using a ***Target Network*** and ***Experience Replay***. We will explore these two techniques in the following sections."
   ]
  },
  {
   "cell_type": "markdown",
   "metadata": {},
   "source": [
    "<a name=\"6.1\"></a>\n",
    "### 6.1 Target Network\n",
    "\n",
    "We can train the $Q$-Network by adjusting it's weights at each iteration to minimize the mean-squared error in the Bellman equation, where the target values are given by:\n",
    "\n",
    "$$\n",
    "y = R + \\gamma \\max_{a'}Q(s',a';w)\n",
    "$$\n",
    "\n",
    "where $w$ are the weights of the $Q$-Network. This means that we are adjusting the weights $w$ at each iteration to minimize the following error:\n",
    "\n",
    "$$\n",
    "\\overbrace{\\underbrace{R + \\gamma \\max_{a'}Q(s',a'; w)}_{\\rm {y~target}} - Q(s,a;w)}^{\\rm {Error}}\n",
    "$$\n",
    "\n",
    "Notice that this forms a problem because the $y$ target is changing on every iteration. Having a constantly moving target can lead to oscillations and instabilities. To avoid this, we can create\n",
    "a separate neural network for generating the $y$ targets. We call this separate neural network the **target $\\hat Q$-Network** and it will have the same architecture as the original $Q$-Network. By using the target $\\hat Q$-Network, the above error becomes:\n",
    "\n",
    "$$\n",
    "\\overbrace{\\underbrace{R + \\gamma \\max_{a'}\\hat{Q}(s',a'; w^-)}_{\\rm {y~target}} - Q(s,a;w)}^{\\rm {Error}}\n",
    "$$\n",
    "\n",
    "where $w^-$ and $w$ are the weights of the target $\\hat Q$-Network and $Q$-Network, respectively.\n",
    "\n",
    "In practice, we will use the following algorithm: every $C$ time steps we will use the $\\hat Q$-Network to generate the $y$ targets and update the weights of the target $\\hat Q$-Network using the weights of the $Q$-Network. We will update the weights $w^-$ of the the target $\\hat Q$-Network using a **soft update**. This means that we will update the weights $w^-$ using the following rule:\n",
    " \n",
    "$$\n",
    "w^-\\leftarrow \\tau w + (1 - \\tau) w^-\n",
    "$$\n",
    "\n",
    "where $\\tau\\ll 1$. By using the soft update, we are ensuring that the target values, $y$, change slowly, which greatly improves the stability of our learning algorithm."
   ]
  },
  {
   "cell_type": "markdown",
   "metadata": {},
   "source": [
    "<a name=\"ex01\"></a>\n",
    "### Exercise 1\n",
    "\n",
    "In this exercise you will create the $Q$ and target $\\hat Q$ networks and set the optimizer. Remember that the Deep $Q$-Network (DQN) is a neural network that approximates the action-value function $Q(s,a)\\approx Q^*(s,a)$. It does this by learning how to map states to $Q$ values.\n",
    "\n",
    "To solve the Lunar Lander environment, we are going to employ a DQN with the following architecture:\n",
    "\n",
    "* An `Input` layer that takes `state_size` as input.\n",
    "\n",
    "* A `Dense` layer with `64` units and a `relu` activation function.\n",
    "\n",
    "* A `Dense` layer with `64` units and a `relu` activation function.\n",
    "\n",
    "* A `Dense` layer with `num_actions` units and a `linear` activation function. This will be the output layer of our network.\n",
    "\n",
    "\n",
    "In the cell below you should create the $Q$-Network and the target $\\hat Q$-Network using the model architecture described above. Remember that both the $Q$-Network and the target $\\hat Q$-Network have the same architecture.\n",
    "\n",
    "Lastly, you should set `Adam` as the optimizer with a learning rate equal to `ALPHA`. Recall that `ALPHA` was defined in the [Hyperparameters](#2) section. We should note that for this exercise you should use the already imported packages:\n",
    "```python\n",
    "from tensorflow.keras.layers import Dense, Input\n",
    "from tensorflow.keras.optimizers import Adam\n",
    "```"
   ]
  },
  {
   "cell_type": "code",
   "execution_count": 51,
   "metadata": {
    "deletable": false
   },
   "outputs": [],
   "source": [
    "# UNQ_C1\n",
    "# GRADED CELL\n",
    "\n",
    "# Create the Q-Network\n",
    "q_network = Sequential([\n",
    "    Input(shape=state_size),                      \n",
    "    Dense(units=64, activation='relu'),            \n",
    "    Dense(units=64, activation='relu'),            \n",
    "    Dense(units=num_actions, activation='linear'),\n",
    "    ])\n",
    "    ### END CODE HERE ### \n",
    "    \n",
    "# Create the target Q^-Network\n",
    "target_q_network = Sequential([\n",
    "    Input(shape=state_size),                       \n",
    "    Dense(units=64, activation='relu'),            \n",
    "    Dense(units=64, activation='relu'),            \n",
    "    Dense(units=num_actions, activation='linear'), \n",
    "    ])\n",
    "### END CODE HERE ###\n",
    "    \n",
    "\n",
    "### START CODE HERE ### \n",
    "optimizer = Adam(learning_rate = ALPHA)\n",
    "### END CODE HERE ###"
   ]
  },
  {
   "cell_type": "code",
   "execution_count": 52,
   "metadata": {
    "deletable": false,
    "editable": false
   },
   "outputs": [
    {
     "name": "stdout",
     "output_type": "stream",
     "text": [
      "\u001b[92mAll tests passed!\n",
      "\u001b[92mAll tests passed!\n",
      "\u001b[92mAll tests passed!\n"
     ]
    }
   ],
   "source": [
    "# UNIT TEST\n",
    "from public_tests import *\n",
    "\n",
    "test_network(q_network)\n",
    "test_network(target_q_network)\n",
    "test_optimizer(optimizer, ALPHA) "
   ]
  },
  {
   "cell_type": "markdown",
   "metadata": {},
   "source": [
    "<details>\n",
    "  <summary><font size=\"3\" color=\"darkgreen\"><b>Click for hints</b></font></summary>\n",
    "    \n",
    "```python\n",
    "# Create the Q-Network\n",
    "q_network = Sequential([\n",
    "    Input(shape=state_size),                      \n",
    "    Dense(units=64, activation='relu'),            \n",
    "    Dense(units=64, activation='relu'),            \n",
    "    Dense(units=num_actions, activation='linear'),\n",
    "    ])\n",
    "\n",
    "# Create the target Q^-Network\n",
    "target_q_network = Sequential([\n",
    "    Input(shape=state_size),                       \n",
    "    Dense(units=64, activation='relu'),            \n",
    "    Dense(units=64, activation='relu'),            \n",
    "    Dense(units=num_actions, activation='linear'), \n",
    "    ])\n",
    "\n",
    "optimizer = Adam(learning_rate=ALPHA)                                  \n",
    "``` "
   ]
  },
  {
   "cell_type": "markdown",
   "metadata": {},
   "source": [
    "<a name=\"6.2\"></a>\n",
    "### 6.2 Experience Replay\n",
    "\n",
    "When an agent interacts with the environment, the states, actions, and rewards the agent experiences are sequential by nature. If the agent tries to learn from these consecutive experiences it can run into problems due to the strong correlations between them. To avoid this, we employ a technique known as **Experience Replay** to generate uncorrelated experiences for training our agent. Experience replay consists of storing the agent's experiences (i.e the states, actions, and rewards the agent receives) in a memory buffer and then sampling a random mini-batch of experiences from the buffer to do the learning. The experience tuples $(S_t, A_t, R_t, S_{t+1})$ will be added to the memory buffer at each time step as the agent interacts with the environment.\n",
    "\n",
    "For convenience, we will store the experiences as named tuples."
   ]
  },
  {
   "cell_type": "code",
   "execution_count": 53,
   "metadata": {
    "deletable": false,
    "editable": false
   },
   "outputs": [],
   "source": [
    "# Store experiences as named tuples\n",
    "experience = namedtuple(\"Experience\", field_names=[\"state\", \"action\", \"reward\", \"next_state\", \"done\"])"
   ]
  },
  {
   "cell_type": "markdown",
   "metadata": {},
   "source": [
    "By using experience replay we avoid problematic correlations, oscillations and instabilities. In addition, experience replay also allows the agent to potentially use the same experience in multiple weight updates, which increases data efficiency."
   ]
  },
  {
   "cell_type": "markdown",
   "metadata": {},
   "source": [
    "<a name=\"7\"></a>\n",
    "## 7 - Deep Q-Learning Algorithm with Experience Replay\n",
    "\n",
    "Now that we know all the techniques that we are going to use, we can put them together to arrive at the Deep Q-Learning Algorithm With Experience Replay.\n",
    "<br>\n",
    "<br>\n",
    "<figure>\n",
    "  <img src = \"images/deep_q_algorithm.png\" width = 90% style = \"border: thin silver solid; padding: 0px\">\n",
    "      <figcaption style = \"text-align: center; font-style: italic\">Fig 3. Deep Q-Learning with Experience Replay.</figcaption>\n",
    "</figure>"
   ]
  },
  {
   "cell_type": "markdown",
   "metadata": {},
   "source": [
    "<a name=\"ex02\"></a>\n",
    "### Exercise 2\n",
    "\n",
    "In this exercise you will implement line ***12*** of the algorithm outlined in *Fig 3* above and you will also compute the loss between the $y$ targets and the $Q(s,a)$ values. In the cell below, complete the `compute_loss` function by setting the $y$ targets equal to:\n",
    "\n",
    "$$\n",
    "\\begin{equation}\n",
    "    y_j =\n",
    "    \\begin{cases}\n",
    "      R_j & \\text{if episode terminates at step  } j+1\\\\\n",
    "      R_j + \\gamma \\max_{a'}\\hat{Q}(s_{j+1},a') & \\text{otherwise}\\\\\n",
    "    \\end{cases}       \n",
    "\\end{equation}\n",
    "$$\n",
    "\n",
    "Here are a couple of things to note:\n",
    "\n",
    "* The `compute_loss` function takes in a mini-batch of experience tuples. This mini-batch of experience tuples is unpacked to extract the `states`, `actions`, `rewards`, `next_states`, and `done_vals`. You should keep in mind that these variables are *TensorFlow Tensors* whose size will depend on the mini-batch size. For example, if the mini-batch size is `64` then both `rewards` and `done_vals` will be TensorFlow Tensors with `64` elements.\n",
    "\n",
    "\n",
    "* Using `if/else` statements to set the $y$ targets will not work when the variables are tensors with many elements. However, notice that you can use the `done_vals` to implement the above in a single line of code. To do this, recall that the `done` variable is a Boolean variable that takes the value `True` when an episode terminates at step $j+1$ and it is `False` otherwise. Taking into account that a Boolean value of `True` has the numerical value of `1` and a Boolean value of `False` has the numerical value of `0`, you can use the factor `(1 - done_vals)` to implement the above in a single line of code. Here's a hint: notice that `(1 - done_vals)` has a value of `0` when `done_vals` is `True` and a value of `1` when `done_vals` is `False`. \n",
    "\n",
    "Lastly, compute the loss by calculating the Mean-Squared Error (`MSE`) between the `y_targets` and the `q_values`. To calculate the mean-squared error you should use the already imported package `MSE`:\n",
    "```python\n",
    "from tensorflow.keras.losses import MSE\n",
    "```"
   ]
  },
  {
   "cell_type": "code",
   "execution_count": 54,
   "metadata": {
    "deletable": false
   },
   "outputs": [],
   "source": [
    "# UNQ_C2\n",
    "# GRADED FUNCTION: calculate_loss\n",
    "\n",
    "def compute_loss(experiences, gamma, q_network, target_q_network):\n",
    "    \"\"\" \n",
    "    Calculates the loss.\n",
    "    \n",
    "    Args:\n",
    "      experiences: (tuple) tuple of [\"state\", \"action\", \"reward\", \"next_state\", \"done\"] namedtuples\n",
    "      gamma: (float) The discount factor.\n",
    "      q_network: (tf.keras.Sequential) Keras model for predicting the q_values\n",
    "      target_q_network: (tf.keras.Sequential) Keras model for predicting the targets\n",
    "          \n",
    "    Returns:\n",
    "      loss: (TensorFlow Tensor(shape=(0,), dtype=int32)) the Mean-Squared Error between\n",
    "            the y targets and the Q(s,a) values.\n",
    "    \"\"\"\n",
    "\n",
    "    # Unpack the mini-batch of experience tuples\n",
    "    states, actions, rewards, next_states, done_vals = experiences\n",
    "    \n",
    "    # Compute max Q^(s,a)\n",
    "    max_qsa = tf.reduce_max(target_q_network(next_states), axis=-1)\n",
    "    \n",
    "    # Set y = R if episode terminates, otherwise set y = R + γ max Q^(s,a).\n",
    "    ### START CODE HERE ###\n",
    "    y_targets = rewards + (gamma * max_qsa * (1 - done_vals))\n",
    "    \n",
    "    ### END CODE HERE ###\n",
    "    \n",
    "    # Get the q_values and reshape to match y_targets\n",
    "    q_values = q_network(states)\n",
    "    q_values = tf.gather_nd(q_values, tf.stack([tf.range(q_values.shape[0]),\n",
    "                                                tf.cast(actions, tf.int32)], axis=1))\n",
    "        \n",
    "    # Compute the loss\n",
    "    ### START CODE HERE ###\n",
    "    loss = MSE(y_targets, q_values)\n",
    "     \n",
    "    ### END CODE HERE ### \n",
    "    \n",
    "    return loss"
   ]
  },
  {
   "cell_type": "code",
   "execution_count": 55,
   "metadata": {
    "deletable": false,
    "editable": false
   },
   "outputs": [
    {
     "name": "stdout",
     "output_type": "stream",
     "text": [
      "\u001b[92mAll tests passed!\n"
     ]
    }
   ],
   "source": [
    "# UNIT TEST    \n",
    "test_compute_loss(compute_loss)"
   ]
  },
  {
   "cell_type": "markdown",
   "metadata": {},
   "source": [
    "<details>\n",
    "  <summary><font size=\"3\" color=\"darkgreen\"><b>Click for hints</b></font></summary>\n",
    "    \n",
    "```python\n",
    "def compute_loss(experiences, gamma, q_network, target_q_network):\n",
    "    \"\"\" \n",
    "    Calculates the loss.\n",
    "    \n",
    "    Args:\n",
    "      experiences: (tuple) tuple of [\"state\", \"action\", \"reward\", \"next_state\", \"done\"] namedtuples\n",
    "      gamma: (float) The discount factor.\n",
    "      q_network: (tf.keras.Sequential) Keras model for predicting the q_values\n",
    "      target_q_network: (tf.keras.Sequential) Keras model for predicting the targets\n",
    "          \n",
    "    Returns:\n",
    "      loss: (TensorFlow Tensor(shape=(0,), dtype=int32)) the Mean-Squared Error between\n",
    "            the y targets and the Q(s,a) values.\n",
    "    \"\"\"\n",
    "\n",
    "    \n",
    "    # Unpack the mini-batch of experience tuples\n",
    "    states, actions, rewards, next_states, done_vals = experiences\n",
    "    \n",
    "    # Compute max Q^(s,a)\n",
    "    max_qsa = tf.reduce_max(target_q_network(next_states), axis=-1)\n",
    "    \n",
    "    # Set y = R if episode terminates, otherwise set y = R + γ max Q^(s,a).\n",
    "    y_targets = rewards + (gamma * max_qsa * (1 - done_vals))\n",
    "    \n",
    "    # Get the q_values\n",
    "    q_values = q_network(states)\n",
    "    q_values = tf.gather_nd(q_values, tf.stack([tf.range(q_values.shape[0]),\n",
    "                                                tf.cast(actions, tf.int32)], axis=1))\n",
    "    \n",
    "    # Calculate the loss\n",
    "    loss = MSE(y_targets, q_values)\n",
    "    \n",
    "    return loss\n",
    "\n",
    "``` \n",
    "    "
   ]
  },
  {
   "cell_type": "markdown",
   "metadata": {},
   "source": [
    "<a name=\"8\"></a>\n",
    "## 8 - Update the Network Weights\n",
    "\n",
    "We will use the `agent_learn` function below to implement lines ***12 -14*** of the algorithm outlined in [Fig 3](#7). The `agent_learn` function will update the weights of the $Q$ and target $\\hat Q$ networks using a custom training loop. Because we are using a custom training loop we need to retrieve the gradients via a `tf.GradientTape` instance, and then call `optimizer.apply_gradients()` to update the weights of our $Q$-Network. Note that we are also using the `@tf.function` decorator to increase performance. Without this decorator our training will take twice as long. If you would like to know more about how to increase performance with `@tf.function` take a look at the [TensorFlow documentation](https://www.tensorflow.org/guide/function).\n",
    "\n",
    "The last line of this function updates the weights of the target $\\hat Q$-Network using a [soft update](#6.1). If you want to know how this is implemented in code we encourage you to take a look at the `utils.update_target_network` function in the `utils` module."
   ]
  },
  {
   "cell_type": "code",
   "execution_count": 56,
   "metadata": {
    "deletable": false,
    "editable": false
   },
   "outputs": [],
   "source": [
    "@tf.function\n",
    "def agent_learn(experiences, gamma):\n",
    "    \"\"\"\n",
    "    Updates the weights of the Q networks.\n",
    "    \n",
    "    Args:\n",
    "      experiences: (tuple) tuple of [\"state\", \"action\", \"reward\", \"next_state\", \"done\"] namedtuples\n",
    "      gamma: (float) The discount factor.\n",
    "    \n",
    "    \"\"\"\n",
    "    \n",
    "    # Calculate the loss\n",
    "    with tf.GradientTape() as tape:\n",
    "        loss = compute_loss(experiences, gamma, q_network, target_q_network)\n",
    "\n",
    "    # Get the gradients of the loss with respect to the weights.\n",
    "    gradients = tape.gradient(loss, q_network.trainable_variables)\n",
    "    \n",
    "    # Update the weights of the q_network.\n",
    "    optimizer.apply_gradients(zip(gradients, q_network.trainable_variables))\n",
    "\n",
    "    # update the weights of target q_network\n",
    "    utils.update_target_network(q_network, target_q_network)"
   ]
  },
  {
   "cell_type": "markdown",
   "metadata": {},
   "source": [
    "<a name=\"9\"></a>\n",
    "## 9 - Train the Agent\n",
    "\n",
    "We are now ready to train our agent to solve the Lunar Lander environment. In the cell below we will implement the algorithm in [Fig 3](#7) line by line (please note that we have included the same algorithm below for easy reference. This will prevent you from scrolling up and down the notebook):\n",
    "\n",
    "* **Line 1**: We initialize the `memory_buffer` with a capacity of $N =$ `MEMORY_SIZE`. Notice that we are using a `deque` as the data structure for our `memory_buffer`.\n",
    "\n",
    "\n",
    "* **Line 2**: We skip this line since we already initialized the `q_network` in [Exercise 1](#ex01).\n",
    "\n",
    "\n",
    "* **Line 3**: We initialize the `target_q_network` by setting its weights to be equal to those of the `q_network`.\n",
    "\n",
    "\n",
    "* **Line 4**: We start the outer loop. Notice that we have set $M =$ `num_episodes = 2000`. This number is reasonable because the agent should be able to solve the Lunar Lander environment in less than `2000` episodes using this notebook's default parameters.\n",
    "\n",
    "\n",
    "* **Line 5**: We use the `.reset()` method to reset the environment to the initial state and get the initial state.\n",
    "\n",
    "\n",
    "* **Line 6**: We start the inner loop. Notice that we have set $T =$ `max_num_timesteps = 1000`. This means that the episode will automatically terminate if the episode hasn't terminated after `1000` time steps.\n",
    "\n",
    "\n",
    "* **Line 7**: The agent observes the current `state` and chooses an `action` using an $\\epsilon$-greedy policy. Our agent starts out using a value of $\\epsilon =$ `epsilon = 1` which yields an $\\epsilon$-greedy policy that is equivalent to the equiprobable random policy. This means that at the beginning of our training, the agent is just going to take random actions regardless of the observed `state`. As training progresses we will decrease the value of $\\epsilon$ slowly towards a minimum value using a given $\\epsilon$-decay rate. We want this minimum value to be close to zero because a value of $\\epsilon = 0$ will yield an $\\epsilon$-greedy policy that is equivalent to the greedy policy. This means that towards the end of training, the agent will lean towards selecting the `action` that it believes (based on its past experiences) will maximize $Q(s,a)$. We will set the minimum $\\epsilon$ value to be `0.01` and not exactly 0 because we always want to keep a little bit of exploration during training. If you want to know how this is implemented in code we encourage you to take a look at the `utils.get_action` function in the `utils` module.\n",
    "\n",
    "\n",
    "* **Line 8**: We use the `.step()` method to take the given `action` in the environment and get the `reward` and the `next_state`. \n",
    "\n",
    "\n",
    "* **Line 9**: We store the `experience(state, action, reward, next_state, done)` tuple in our `memory_buffer`. Notice that we also store the `done` variable so that we can keep track of when an episode terminates. This allowed us to set the $y$ targets in [Exercise 2](#ex02).\n",
    "\n",
    "\n",
    "* **Line 10**: We check if the conditions are met to perform a learning update. We do this by using our custom `utils.check_update_conditions` function. This function checks if $C =$ `NUM_STEPS_FOR_UPDATE = 4` time steps have occured and if our `memory_buffer` has enough experience tuples to fill a mini-batch. For example, if the mini-batch size is `64`, then our `memory_buffer` should have more than `64` experience tuples in order to pass the latter condition. If the conditions are met, then the `utils.check_update_conditions` function will return a value of `True`, otherwise it will return a value of `False`.\n",
    "\n",
    "\n",
    "* **Lines 11 - 14**: If the `update` variable is `True` then we perform a learning update. The learning update consists of sampling a random mini-batch of experience tuples from our `memory_buffer`, setting the $y$ targets, performing gradient descent, and updating the weights of the networks. We will use the `agent_learn` function we defined in [Section 8](#8) to perform the latter 3.\n",
    "\n",
    "\n",
    "* **Line 15**: At the end of each iteration of the inner loop we set `next_state` as our new `state` so that the loop can start again from this new state. In addition, we check if the episode has reached a terminal state (i.e we check if `done = True`). If a terminal state has been reached, then we break out of the inner loop.\n",
    "\n",
    "\n",
    "* **Line 16**: At the end of each iteration of the outer loop we update the value of $\\epsilon$, and check if the environment has been solved. We consider that the environment has been solved if the agent receives an average of `200` points in the last `100` episodes. If the environment has not been solved we continue the outer loop and start a new episode.\n",
    "\n",
    "Finally, we wanted to note that we have included some extra variables to keep track of the total number of points the agent received in each episode. This will help us determine if the agent has solved the environment and it will also allow us to see how our agent performed during training. We also use the `time` module to measure how long the training takes. \n",
    "\n",
    "<br>\n",
    "<br>\n",
    "<figure>\n",
    "  <img src = \"images/deep_q_algorithm.png\" width = 90% style = \"border: thin silver solid; padding: 0px\">\n",
    "      <figcaption style = \"text-align: center; font-style: italic\">Fig 4. Deep Q-Learning with Experience Replay.</figcaption>\n",
    "</figure>\n",
    "<br>\n",
    "\n",
    "**Note:** With this notebook's default parameters, the following cell takes between 10 to 15 minutes to run. "
   ]
  },
  {
   "cell_type": "code",
   "execution_count": 62,
   "metadata": {
    "deletable": false,
    "editable": false
   },
   "outputs": [
    {
     "name": "stdout",
     "output_type": "stream",
     "text": [
      "Episode 100 | Total point average of the last 100 episodes: -115.93\n",
      "Episode 200 | Total point average of the last 100 episodes: -47.161\n",
      "Episode 300 | Total point average of the last 100 episodes: 14.038\n",
      "Episode 400 | Total point average of the last 100 episodes: 157.28\n",
      "Episode 453 | Total point average of the last 100 episodes: 200.16\n",
      "\n",
      "Environment solved in 453 episodes!\n",
      "\n",
      "Total Runtime: 350.95 s (5.85 min)\n"
     ]
    }
   ],
   "source": [
    "start = time.time()\n",
    "\n",
    "num_episodes = 2000\n",
    "max_num_timesteps = 1000\n",
    "\n",
    "total_point_history = []\n",
    "\n",
    "num_p_av = 100    # number of total points to use for averaging\n",
    "epsilon = 1.0     # initial ε value for ε-greedy policy\n",
    "\n",
    "# Create a memory buffer D with capacity N\n",
    "memory_buffer = deque(maxlen=MEMORY_SIZE)\n",
    "\n",
    "# Set the target network weights equal to the Q-Network weights\n",
    "target_q_network.set_weights(q_network.get_weights())\n",
    "\n",
    "for i in range(num_episodes):\n",
    "    \n",
    "    # Reset the environment to the initial state and get the initial state\n",
    "    state = env.reset()\n",
    "    total_points = 0\n",
    "    \n",
    "    for t in range(max_num_timesteps):\n",
    "        \n",
    "        # From the current state S choose an action A using an ε-greedy policy\n",
    "        state_qn = np.expand_dims(state, axis=0)  # state needs to be the right shape for the q_network\n",
    "        q_values = q_network(state_qn)\n",
    "        action = utils.get_action(q_values, epsilon)\n",
    "        \n",
    "        # Take action A and receive reward R and the next state S'\n",
    "        next_state, reward, done, _ = env.step(action)\n",
    "        \n",
    "        # Store experience tuple (S,A,R,S') in the memory buffer.\n",
    "        # We store the done variable as well for convenience.\n",
    "        memory_buffer.append(experience(state, action, reward, next_state, done))\n",
    "        \n",
    "        # Only update the network every NUM_STEPS_FOR_UPDATE time steps.\n",
    "        update = utils.check_update_conditions(t, NUM_STEPS_FOR_UPDATE, memory_buffer)\n",
    "        \n",
    "        if update:\n",
    "            # Sample random mini-batch of experience tuples (S,A,R,S') from D\n",
    "            experiences = utils.get_experiences(memory_buffer)\n",
    "            \n",
    "            # Set the y targets, perform a gradient descent step,\n",
    "            # and update the network weights.\n",
    "            agent_learn(experiences, GAMMA)\n",
    "        \n",
    "        state = next_state.copy()\n",
    "        total_points += reward\n",
    "        \n",
    "        if done:\n",
    "            break\n",
    "            \n",
    "    total_point_history.append(total_points)\n",
    "    av_latest_points = np.mean(total_point_history[-num_p_av:])\n",
    "    \n",
    "    # Update the ε value\n",
    "    epsilon = utils.get_new_eps(epsilon)\n",
    "\n",
    "    print(f\"\\rEpisode {i+1} | Total point average of the last {num_p_av} episodes: {av_latest_points:.2f}\", end=\"\")\n",
    "\n",
    "    if (i+1) % num_p_av == 0:\n",
    "        print(f\"\\rEpisode {i+1} | Total point average of the last {num_p_av} episodes: {av_latest_points:.2f}\")\n",
    "\n",
    "    # We will consider that the environment is solved if we get an\n",
    "    # average of 200 points in the last 100 episodes.\n",
    "    if av_latest_points >= 200.0:\n",
    "        print(f\"\\n\\nEnvironment solved in {i+1} episodes!\")\n",
    "        q_network.save('lunar_lander_model.h5')\n",
    "        break\n",
    "        \n",
    "tot_time = time.time() - start\n",
    "\n",
    "print(f\"\\nTotal Runtime: {tot_time:.2f} s ({(tot_time/60):.2f} min)\")"
   ]
  },
  {
   "cell_type": "markdown",
   "metadata": {},
   "source": [
    "We can plot the total point history along with the moving average to see how our agent improved during training. If you want to know about the different plotting options available in the `utils.plot_history` function we encourage you to take a look at the `utils` module."
   ]
  },
  {
   "cell_type": "code",
   "execution_count": 64,
   "metadata": {
    "deletable": false,
    "editable": false,
    "id": "E_EUXxurfe8m",
    "scrolled": false
   },
   "outputs": [
    {
     "data": {
      "image/png": "[encoded data removed]",
      "text/plain": [
       "<Figure size 720x504 with 1 Axes>"
      ]
     },
     "metadata": {},
     "output_type": "display_data"
    }
   ],
   "source": [
    "# Plot the total point history along with the moving average\n",
    "utils.plot_history(total_point_history)"
   ]
  },
  {
   "cell_type": "markdown",
   "metadata": {
    "id": "c_xwgaX5MnYt"
   },
   "source": [
    "<a name=\"10\"></a>\n",
    "## 10 - See the Trained Agent In Action\n",
    "\n",
    "Now that we have trained our agent, we can see it in action. We will use the `utils.create_video` function to create a video of our agent interacting with the environment using the trained $Q$-Network. The `utils.create_video` function uses the `imageio` library to create the video. This library produces some warnings that can be distracting, so, to suppress these warnings we run the code below."
   ]
  },
  {
   "cell_type": "code",
   "execution_count": 65,
   "metadata": {
    "deletable": false,
    "editable": false
   },
   "outputs": [],
   "source": [
    "# Suppress warnings from imageio\n",
    "import logging\n",
    "logging.getLogger().setLevel(logging.ERROR)"
   ]
  },
  {
   "cell_type": "markdown",
   "metadata": {},
   "source": [
    "In the cell below we create a video of our agent interacting with the Lunar Lander environment using the trained `q_network`. The video is saved to the `videos` folder with the given `filename`. We use the `utils.embed_mp4` function to embed the video in the Jupyter Notebook so that we can see it here directly without having to download it.\n",
    "\n",
    "We should note that since the lunar lander starts with a random initial force applied to its center of mass, every time you run the cell below you will see a different video. If the agent was trained properly, it should be able to land the lunar lander in the landing pad every time, regardless of the initial force applied to its center of mass."
   ]
  },
  {
   "cell_type": "code",
   "execution_count": 66,
   "metadata": {
    "deletable": false,
    "editable": false,
    "id": "3Ttb_zLeJKiG"
   },
   "outputs": [
    {
     "data": {
      "text/html": [
       "\n",
       "    <video width=\"840\" height=\"480\" controls>\n",
       "    <source src=\"data:video/mp4;base64,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\" type=\"video/mp4\">\n",
       "    Your browser does not support the video tag.\n",
       "    </video>"
      ],
      "text/plain": [
       "<IPython.core.display.HTML object>"
      ]
     },
     "execution_count": 66,
     "metadata": {},
     "output_type": "execute_result"
    }
   ],
   "source": [
    "filename = \"./videos/lunar_lander.mp4\"\n",
    "\n",
    "utils.create_video(filename, env, q_network)\n",
    "utils.embed_mp4(filename)"
   ]
  },
  {
   "cell_type": "markdown",
   "metadata": {},
   "source": [
    "<a name=\"11\"></a>\n",
    "## 11 - Congratulations!\n",
    "\n",
    "You have successfully used Deep Q-Learning with Experience Replay to train an agent to land a lunar lander safely on a landing pad on the surface of the moon. Congratulations!"
   ]
  },
  {
   "cell_type": "markdown",
   "metadata": {},
   "source": [
    "<a name=\"12\"></a>\n",
    "## 12 - References\n",
    "\n",
    "If you would like to learn more about Deep Q-Learning, we recommend you check out the following papers.\n",
    "\n",
    "\n",
    "* Mnih, V., Kavukcuoglu, K., Silver, D. et al. Human-level control through deep reinforcement learning. Nature 518, 529–533 (2015).\n",
    "\n",
    "\n",
    "* Lillicrap, T. P., Hunt, J. J., Pritzel, A., et al. Continuous Control with Deep Reinforcement Learning. ICLR (2016).\n",
    "\n",
    "\n",
    "* Mnih, V., Kavukcuoglu, K., Silver, D. et al. Playing Atari with Deep Reinforcement Learning. arXiv e-prints.  arXiv:1312.5602 (2013)."
   ]
  },
  {
   "cell_type": "markdown",
   "metadata": {},
   "source": [
    "<details>\n",
    "  <summary><font size=\"2\" color=\"darkgreen\"><b>Please click here if you want to experiment with any of the non-graded code.</b></font></summary>\n",
    "    <p><i><b>Important Note: Please only do this when you've already passed the assignment to avoid problems with the autograder.</b></i>\n",
    "    <ol>\n",
    "        <li> On the notebook’s menu, click “View” > “Cell Toolbar” > “Edit Metadata”</li>\n",
    "        <li> Hit the “Edit Metadata” button next to the code cell which you want to lock/unlock</li>\n",
    "        <li> Set the attribute value for “editable” to:\n",
    "            <ul>\n",
    "                <li> “true” if you want to unlock it </li>\n",
    "                <li> “false” if you want to lock it </li>\n",
    "            </ul>\n",
    "        </li>\n",
    "        <li> On the notebook’s menu, click “View” > “Cell Toolbar” > “None” </li>\n",
    "    </ol>\n",
    "    <p> Here's a short demo of how to do the steps above: \n",
    "        <br>\n",
    "        <img src=\"https://drive.google.com/uc?export=view&id=14Xy_Mb17CZVgzVAgq7NCjMVBvSae3xO1\" align=\"center\" alt=\"unlock_cells.gif\">\n",
    "</details>"
   ]
  },
  {
   "cell_type": "code",
   "execution_count": null,
   "metadata": {},
   "outputs": [],
   "source": []
  }
 ],
 "metadata": {
  "accelerator": "GPU",
  "colab": {
   "collapsed_sections": [],
   "name": "TensorFlow - Lunar Lander.ipynb",
   "provenance": []
  },
  "kernelspec": {
   "display_name": "Python 3",
   "language": "python",
   "name": "python3"
  },
  "language_info": {
   "codemirror_mode": {
    "name": "ipython",
    "version": 3
   },
   "file_extension": ".py",
   "mimetype": "text/x-python",
   "name": "python",
   "nbconvert_exporter": "python",
   "pygments_lexer": "ipython3",
   "version": "3.7.6"
  }
 },
 "nbformat": 4,
 "nbformat_minor": 1
}
